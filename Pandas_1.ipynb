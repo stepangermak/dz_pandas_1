{
 "cells": [
  {
   "cell_type": "markdown",
   "metadata": {},
   "source": [
    "Определите какому фильму было выставлено больше всего оценок 5.0."
   ]
  },
  {
   "cell_type": "code",
   "execution_count": 1,
   "metadata": {},
   "outputs": [],
   "source": [
    "import pandas as pd"
   ]
  },
  {
   "cell_type": "code",
   "execution_count": 96,
   "metadata": {},
   "outputs": [
    {
     "data": {
      "text/plain": [
       "movieId  rating\n",
       "318      5.0       153\n",
       "Name: rating, dtype: int64"
      ]
     },
     "execution_count": 96,
     "metadata": {},
     "output_type": "execute_result"
    }
   ],
   "source": [
    "rat = pd.read_csv('ratings.csv')\n",
    "rat_filtr = rat[rat.rating == 5]\n",
    "rat_count = rat_filtr.groupby('movieId')['rating'].value_counts()\n",
    "rat_count.sort_values(ascending = False).head(1)"
   ]
  },
  {
   "cell_type": "markdown",
   "metadata": {},
   "source": [
    "По данным файла power.csv посчитайте суммарное потребление стран Прибалтики (Латвия, Литва и Эстония) категорий 4, 12 и 21 за период с 2005 по 2010 года. Не учитывайте в расчетах отрицательные значения quantity."
   ]
  },
  {
   "cell_type": "code",
   "execution_count": 84,
   "metadata": {},
   "outputs": [],
   "source": [
    "data = pd.read_csv('power.csv')"
   ]
  },
  {
   "cell_type": "code",
   "execution_count": 138,
   "metadata": {},
   "outputs": [
    {
     "data": {
      "text/plain": [
       "201650.0"
      ]
     },
     "execution_count": 138,
     "metadata": {},
     "output_type": "execute_result"
    }
   ],
   "source": [
    "f_c = data[(data['country'] == 'Latvia')|(data['country'] == 'Lithuania')|(data['country'] == 'Estonia') ]\n",
    "f_y = f_c[(f_c['year']>=2005) & (f_c['year'] < 2010)]\n",
    "f_cat = f_y[(f_y['category'] == 4)|(f_y['category'] == 12)|(f_y['category'] == 21) & (f_y['quantity'] > 0)]\n",
    "f_cat.quantity.sum()"
   ]
  },
  {
   "cell_type": "markdown",
   "metadata": {},
   "source": [
    "Выберите страницу любого сайта с табличными данными. Импортируйте таблицы в pandas dataframe."
   ]
  },
  {
   "cell_type": "code",
   "execution_count": 136,
   "metadata": {},
   "outputs": [
    {
     "data": {
      "text/html": [
       "<div>\n",
       "<style scoped>\n",
       "    .dataframe tbody tr th:only-of-type {\n",
       "        vertical-align: middle;\n",
       "    }\n",
       "\n",
       "    .dataframe tbody tr th {\n",
       "        vertical-align: top;\n",
       "    }\n",
       "\n",
       "    .dataframe thead th {\n",
       "        text-align: right;\n",
       "    }\n",
       "</style>\n",
       "<table border=\"1\" class=\"dataframe\">\n",
       "  <thead>\n",
       "    <tr style=\"text-align: right;\">\n",
       "      <th></th>\n",
       "      <th>Unnamed: 0</th>\n",
       "      <th>Рубль</th>\n",
       "      <th>Предложение</th>\n",
       "      <th>Спрос</th>\n",
       "      <th>Предыдущее закрытие</th>\n",
       "      <th>%</th>\n",
       "      <th>Абсолютное значение</th>\n",
       "      <th>Время</th>\n",
       "    </tr>\n",
       "  </thead>\n",
       "  <tbody>\n",
       "    <tr>\n",
       "      <th>0</th>\n",
       "      <td>NaN</td>\n",
       "      <td>GBP/RUB</td>\n",
       "      <td>1012270</td>\n",
       "      <td>-</td>\n",
       "      <td>1019185</td>\n",
       "      <td>-0,68 %</td>\n",
       "      <td>-06915</td>\n",
       "      <td>21:44:00</td>\n",
       "    </tr>\n",
       "    <tr>\n",
       "      <th>1</th>\n",
       "      <td>NaN</td>\n",
       "      <td>EUR/RUB</td>\n",
       "      <td>911149</td>\n",
       "      <td>-</td>\n",
       "      <td>907910</td>\n",
       "      <td>0,36 %</td>\n",
       "      <td>03239</td>\n",
       "      <td>21:43:00</td>\n",
       "    </tr>\n",
       "    <tr>\n",
       "      <th>2</th>\n",
       "      <td>NaN</td>\n",
       "      <td>USD/RUB</td>\n",
       "      <td>771710</td>\n",
       "      <td>-</td>\n",
       "      <td>770825</td>\n",
       "      <td>0,11 %</td>\n",
       "      <td>00885</td>\n",
       "      <td>21:43:00</td>\n",
       "    </tr>\n",
       "    <tr>\n",
       "      <th>3</th>\n",
       "      <td>NaN</td>\n",
       "      <td>JPY/RUB</td>\n",
       "      <td>07340</td>\n",
       "      <td>-</td>\n",
       "      <td>07312</td>\n",
       "      <td>0,38 %</td>\n",
       "      <td>00028</td>\n",
       "      <td>21:44:00</td>\n",
       "    </tr>\n",
       "    <tr>\n",
       "      <th>4</th>\n",
       "      <td>NaN</td>\n",
       "      <td>CNY/RUB</td>\n",
       "      <td>116699</td>\n",
       "      <td>-</td>\n",
       "      <td>116228</td>\n",
       "      <td>0,41 %</td>\n",
       "      <td>00471</td>\n",
       "      <td>21:43:00</td>\n",
       "    </tr>\n",
       "  </tbody>\n",
       "</table>\n",
       "</div>"
      ],
      "text/plain": [
       "   Unnamed: 0    Рубль Предложение Спрос Предыдущее закрытие        %  \\\n",
       "0         NaN  GBP/RUB     1012270     -             1019185  -0,68 %   \n",
       "1         NaN  EUR/RUB      911149     -              907910   0,36 %   \n",
       "2         NaN  USD/RUB      771710     -              770825   0,11 %   \n",
       "3         NaN  JPY/RUB       07340     -               07312   0,38 %   \n",
       "4         NaN  CNY/RUB      116699     -              116228   0,41 %   \n",
       "\n",
       "  Абсолютное значение     Время  \n",
       "0              -06915  21:44:00  \n",
       "1               03239  21:43:00  \n",
       "2               00885  21:43:00  \n",
       "3               00028  21:44:00  \n",
       "4               00471  21:43:00  "
      ]
     },
     "execution_count": 136,
     "metadata": {},
     "output_type": "execute_result"
    }
   ],
   "source": [
    "tab = pd.read_html('https://www.finanz.ru/valyuty/v-realnom-vremeni', encoding='utf-8')[1]\n",
    "tab.head()"
   ]
  }
 ],
 "metadata": {
  "kernelspec": {
   "display_name": "Python 3",
   "language": "python",
   "name": "python3"
  },
  "language_info": {
   "codemirror_mode": {
    "name": "ipython",
    "version": 3
   },
   "file_extension": ".py",
   "mimetype": "text/x-python",
   "name": "python",
   "nbconvert_exporter": "python",
   "pygments_lexer": "ipython3",
   "version": "3.8.3"
  }
 },
 "nbformat": 4,
 "nbformat_minor": 4
}
